{
 "cells": [
  {
   "cell_type": "code",
   "execution_count": 1,
   "id": "0deebf04",
   "metadata": {},
   "outputs": [
    {
     "name": "stdout",
     "output_type": "stream",
     "text": [
      "Current working directory: C:\\Users\\Reddy\\Documents\\Projects\\posture correction\\dataset\n"
     ]
    }
   ],
   "source": [
    "import os\n",
    "\n",
    "# Set the working directory to where your dataset files are located\n",
    "os.chdir('C:/Users/Reddy/Documents/Projects/posture correction/dataset')\n",
    "\n",
    "# Print the current working directory to confirm it worked\n",
    "print(f\"Current working directory: {os.getcwd()}\")\n"
   ]
  },
  {
   "cell_type": "code",
   "execution_count": 2,
   "id": "eceb6bd4",
   "metadata": {},
   "outputs": [
    {
     "name": "stdout",
     "output_type": "stream",
     "text": [
      "All datasets loaded successfully!\n",
      "Landmarks shape: (1372, 100)\n",
      "Labels shape: (1372, 2)\n",
      "Angles shape: (1372, 8)\n",
      "3D Distances shape: (1372, 17)\n",
      "XYZ Distances shape: (1372, 49)\n"
     ]
    }
   ],
   "source": [
    "import pandas as pd\n",
    "\n",
    "# Load the datasets using the full file path\n",
    "try:\n",
    "    df_3d_distances = pd.read_csv(\"C:/Users/Reddy/Documents/Projects/posture correction/dataset/3d_distances.csv\")\n",
    "    df_angles = pd.read_csv(\"C:/Users/Reddy/Documents/Projects/posture correction/dataset/angles.csv\")\n",
    "    df_labels = pd.read_csv(\"C:/Users/Reddy/Documents/Projects/posture correction/dataset/labels.csv\")\n",
    "    df_landmarks = pd.read_csv(\"C:/Users/Reddy/Documents/Projects/posture correction/dataset/landmarks.csv\")\n",
    "    df_xyz_distances = pd.read_csv(\"C:/Users/Reddy/Documents/Projects/posture correction/dataset/xyz_distances.csv\")\n",
    "\n",
    "    print(\"All datasets loaded successfully!\")\n",
    "    print(f\"Landmarks shape: {df_landmarks.shape}\")\n",
    "    print(f\"Labels shape: {df_labels.shape}\")\n",
    "    print(f\"Angles shape: {df_angles.shape}\")\n",
    "    print(f\"3D Distances shape: {df_3d_distances.shape}\")\n",
    "    print(f\"XYZ Distances shape: {df_xyz_distances.shape}\")\n",
    "\n",
    "except FileNotFoundError as e:\n",
    "    print(f\"Error: A file was not found. Please double-check the path. Error: {e}\")\n",
    "    raise\n"
   ]
  }
 ],
 "metadata": {
  "kernelspec": {
   "display_name": "base",
   "language": "python",
   "name": "python3"
  },
  "language_info": {
   "codemirror_mode": {
    "name": "ipython",
    "version": 3
   },
   "file_extension": ".py",
   "mimetype": "text/x-python",
   "name": "python",
   "nbconvert_exporter": "python",
   "pygments_lexer": "ipython3",
   "version": "3.13.5"
  }
 },
 "nbformat": 4,
 "nbformat_minor": 5
}
